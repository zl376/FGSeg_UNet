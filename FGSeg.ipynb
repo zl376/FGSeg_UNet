{
 "cells": [
  {
   "cell_type": "markdown",
   "metadata": {},
   "source": [
    "# Estimate foreground mask in 2D image"
   ]
  },
  {
   "cell_type": "markdown",
   "metadata": {},
   "source": [
    "# Setup environment"
   ]
  },
  {
   "cell_type": "code",
   "execution_count": 40,
   "metadata": {},
   "outputs": [],
   "source": [
    "%matplotlib inline\n",
    "\n",
    "import numpy as np\n",
    "import glob\n",
    "\n",
    "from keras import backend as K\n",
    "from sklearn.model_selection import train_test_split\n",
    "from keras.utils import np_utils"
   ]
  },
  {
   "cell_type": "code",
   "execution_count": 42,
   "metadata": {},
   "outputs": [],
   "source": [
    "from importlib import reload\n",
    "\n",
    "import utils\n",
    "reload(utils)\n",
    "from utils import *\n",
    "\n",
    "import unet\n",
    "reload(unet)\n",
    "from unet import generate_model"
   ]
  },
  {
   "cell_type": "markdown",
   "metadata": {},
   "source": [
    "# Parameter setting"
   ]
  },
  {
   "cell_type": "code",
   "execution_count": 43,
   "metadata": {},
   "outputs": [],
   "source": [
    "matrix_size = (320, 400)\n",
    "num_classes = 2\n",
    "num_channel = 3\n",
    "\n",
    "model_filename = 'models/weights.h5'\n",
    "monitor = 'val_loss'\n",
    "nb_epoch = 50\n",
    "validation_split = 0.1"
   ]
  },
  {
   "cell_type": "markdown",
   "metadata": {},
   "source": [
    "# Prepare data"
   ]
  },
  {
   "cell_type": "code",
   "execution_count": 45,
   "metadata": {},
   "outputs": [
    {
     "name": "stdout",
     "output_type": "stream",
     "text": [
      "Loaded 100 cases\n",
      "Loaded 200 cases\n"
     ]
    }
   ],
   "source": [
    "imgs_resized = []\n",
    "masks_resized = []\n",
    "\n",
    "count_case = 0\n",
    "for fn_img in glob.glob('datasets/img*.jpg'):\n",
    "    img_ID = get_img_ID(fn_img)\n",
    "    fn_mask = 'datasets/mask' + img_ID + '.jpg'\n",
    "    \n",
    "    # Load image\n",
    "    img = load_data(fn_img)\n",
    "    \n",
    "    # Resize image\n",
    "    img_resized = resize(img, matrix_size)\n",
    "    \n",
    "    # Load mask\n",
    "    mask = load_data(fn_mask, flag_mask=True)\n",
    "    \n",
    "    # Resize mask\n",
    "    mask_resized = resize(mask[np.newaxis,:], matrix_size)[0,:,:]\n",
    "\n",
    "    imgs_resized.append(img_resized)\n",
    "    masks_resized.append(mask_resized)\n",
    "    \n",
    "    count_case += 1\n",
    "    if count_case%100 == 0:\n",
    "        print('Loaded {} cases'.format(count_case))\n",
    "    \n",
    "imgs_resized = np.stack(imgs_resized, axis=0)\n",
    "masks_resized = np.stack(masks_resized, axis=0)"
   ]
  },
  {
   "cell_type": "code",
   "execution_count": 46,
   "metadata": {},
   "outputs": [],
   "source": [
    "# Convert mask to one-hot label\n",
    "labels_resized = np_utils.to_categorical(masks_resized, num_classes)\n",
    "del masks_resized"
   ]
  },
  {
   "cell_type": "code",
   "execution_count": 48,
   "metadata": {},
   "outputs": [],
   "source": [
    "# Split into training/test dataset\n",
    "data_train, data_test, label_train, label_test = train_test_split(imgs_resized, labels_resized, test_size = 0.1)"
   ]
  },
  {
   "cell_type": "markdown",
   "metadata": {},
   "source": [
    "# Training stage"
   ]
  },
  {
   "cell_type": "markdown",
   "metadata": {},
   "source": [
    "## Prepare model (U-Net) "
   ]
  },
  {
   "cell_type": "code",
   "execution_count": 10,
   "metadata": {},
   "outputs": [],
   "source": [
    "# Build U-Net model\n",
    "model = generate_model(num_classes, num_channel, input_size=matrix_size, output_size=matrix_size)"
   ]
  },
  {
   "cell_type": "markdown",
   "metadata": {},
   "source": [
    "## Configure callback"
   ]
  },
  {
   "cell_type": "code",
   "execution_count": 12,
   "metadata": {},
   "outputs": [],
   "source": [
    "from keras.callbacks import ModelCheckpoint\n",
    "from keras.callbacks import CSVLogger\n",
    "from keras.callbacks import EarlyStopping\n",
    "\n",
    "# Model checkpoint to save the training results\n",
    "checkpointer = ModelCheckpoint(\n",
    "    filepath=model_filename,\n",
    "    monitor=monitor,\n",
    "    verbose=0,\n",
    "    save_best_only=True,\n",
    "    save_weights_only=True)\n",
    "\n",
    "callbacks = [checkpointer]"
   ]
  },
  {
   "cell_type": "markdown",
   "metadata": {},
   "source": [
    "## Start training "
   ]
  },
  {
   "cell_type": "code",
   "execution_count": null,
   "metadata": {
    "scrolled": false
   },
   "outputs": [],
   "source": [
    "K.set_value(model.optimizer.lr, 1e-4)\n",
    "\n",
    "history = model.fit(\n",
    "    data_train,\n",
    "    label_train,\n",
    "    batch_size=5,\n",
    "    epochs=nb_epoch,\n",
    "    validation_split=validation_split,\n",
    "    verbose=1,\n",
    "    callbacks=callbacks)"
   ]
  },
  {
   "cell_type": "markdown",
   "metadata": {},
   "source": [
    "## Summary of training"
   ]
  },
  {
   "cell_type": "code",
   "execution_count": null,
   "metadata": {},
   "outputs": [],
   "source": [
    "# summarize history for accuracy\n",
    "plt.figure()\n",
    "plt.plot(history.history['categorical_accuracy'])\n",
    "plt.plot(history.history['val_categorical_accuracy'])\n",
    "plt.title('model accuracy')\n",
    "plt.ylabel('accuracy')\n",
    "plt.xlabel('epoch')\n",
    "plt.legend(['train', 'test'], loc='upper left')\n",
    "plt.show()\n",
    "# summarize history for loss\n",
    "plt.plot(history.history['loss'])\n",
    "plt.plot(history.history['val_loss'])\n",
    "plt.title('model loss')\n",
    "plt.ylabel('loss')\n",
    "plt.xlabel('epoch')\n",
    "plt.legend(['train', 'test'], loc='upper left')\n",
    "plt.show()"
   ]
  },
  {
   "cell_type": "markdown",
   "metadata": {},
   "source": [
    "# Test stage"
   ]
  },
  {
   "cell_type": "markdown",
   "metadata": {},
   "source": [
    "## Load optimal model"
   ]
  },
  {
   "cell_type": "code",
   "execution_count": 51,
   "metadata": {},
   "outputs": [],
   "source": [
    "model = generate_model(num_classes, num_channel, input_size=matrix_size, output_size=matrix_size)\n",
    "\n",
    "model.load_weights(model_filename)\n",
    "#model.load_weights('models/weights_optimal.h5')"
   ]
  },
  {
   "cell_type": "markdown",
   "metadata": {},
   "source": [
    "## Inference on test data"
   ]
  },
  {
   "cell_type": "code",
   "execution_count": null,
   "metadata": {},
   "outputs": [],
   "source": [
    "infers_test = []\n",
    "\n",
    "for img_test in data_test:\n",
    "    \n",
    "    pred = model.predict(img_test[np.newaxis,:], verbose=1)\n",
    "    pred_classes = np.argmax(pred, axis=-1)\n",
    "    \n",
    "    mask_test = pred_classes\n",
    "\n",
    "    infers_test.append(mask_test)\n",
    "\n",
    "infers_test = np.stack(infers_test, axis=0)"
   ]
  },
  {
   "cell_type": "markdown",
   "metadata": {},
   "source": [
    "## Calculate metric (Dice)"
   ]
  },
  {
   "cell_type": "code",
   "execution_count": null,
   "metadata": {
    "scrolled": true
   },
   "outputs": [],
   "source": [
    "scores_dice = []\n",
    "\n",
    "for i in range(len(data_test)):\n",
    "    mask_pred = infers_test[i,0,:,:]\n",
    "    mask_true = label_test[i,:,:,1]\n",
    "    \n",
    "    dice = calc_dice(mask_pred, mask_true)\n",
    "    #print(i, dice)\n",
    "    \n",
    "    scores_dice.append(dice)\n",
    "    \n",
    "print('Averaged DICE score on {0} test case: {1:.3f}'.format(len(scores_dice), np.asarray(scores_dice).mean()))"
   ]
  }
 ],
 "metadata": {
  "kernelspec": {
   "display_name": "Python 3",
   "language": "python",
   "name": "python3"
  },
  "language_info": {
   "codemirror_mode": {
    "name": "ipython",
    "version": 3
   },
   "file_extension": ".py",
   "mimetype": "text/x-python",
   "name": "python",
   "nbconvert_exporter": "python",
   "pygments_lexer": "ipython3",
   "version": "3.5.2"
  }
 },
 "nbformat": 4,
 "nbformat_minor": 2
}
